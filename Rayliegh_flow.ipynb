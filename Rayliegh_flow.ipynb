{
  "nbformat": 4,
  "nbformat_minor": 0,
  "metadata": {
    "colab": {
      "name": "Rayliegh_flow.ipynb",
      "provenance": [],
      "authorship_tag": "ABX9TyOjZkuLRDmUSvSAhzF1FfvQ",
      "include_colab_link": true
    },
    "kernelspec": {
      "name": "python3",
      "display_name": "Python 3"
    },
    "language_info": {
      "name": "python"
    }
  },
  "cells": [
    {
      "cell_type": "markdown",
      "metadata": {
        "id": "view-in-github",
        "colab_type": "text"
      },
      "source": [
        "<a href=\"https://colab.research.google.com/github/JMQuinlan/Compressible/blob/main/Rayliegh_flow.ipynb\" target=\"_parent\"><img src=\"https://colab.research.google.com/assets/colab-badge.svg\" alt=\"Open In Colab\"/></a>"
      ]
    },
    {
      "cell_type": "markdown",
      "source": [
        "# Rayleigh flow calculations\n",
        "# MAE 5140 - Compressible Flow\n",
        "\n",
        "copyright 2021 - J. M. Quinlan  \n",
        "University of Colorado  \n",
        "Colorado Springs\n"
      ],
      "metadata": {
        "id": "OyziQTP_DXvP"
      }
    },
    {
      "cell_type": "markdown",
      "source": [
        "Let's give this a try!\n",
        "\n",
        "This piece of code is based on the pygasflow package, the documentation for which is found at:\n",
        "\n",
        "https://pygasflow.readthedocs.io/en/latest/examples/tut-2.html#\n",
        "\n",
        "And code (which you shoudn't need to get started, just `pip install` as below):\n",
        "\n",
        "https://github.com/Davide-sd/pygasflow"
      ],
      "metadata": {
        "id": "hzYjfno5EFXP"
      }
    },
    {
      "cell_type": "code",
      "execution_count": 1,
      "metadata": {
        "colab": {
          "base_uri": "https://localhost:8080/"
        },
        "id": "PBFAn9leDV_7",
        "outputId": "f5b2840f-b97c-430a-c814-8e7d1275922c"
      },
      "outputs": [
        {
          "output_type": "stream",
          "name": "stdout",
          "text": [
            "Collecting pygasflow\n",
            "  Downloading pygasflow-1.0.6-py3-none-any.whl (74 kB)\n",
            "\u001b[K     |████████████████████████████████| 74 kB 728 kB/s \n",
            "\u001b[?25hRequirement already satisfied: scipy in /usr/local/lib/python3.7/dist-packages (from pygasflow) (1.4.1)\n",
            "Requirement already satisfied: matplotlib in /usr/local/lib/python3.7/dist-packages (from pygasflow) (3.2.2)\n",
            "Requirement already satisfied: numpy in /usr/local/lib/python3.7/dist-packages (from pygasflow) (1.21.5)\n",
            "Requirement already satisfied: kiwisolver>=1.0.1 in /usr/local/lib/python3.7/dist-packages (from matplotlib->pygasflow) (1.3.2)\n",
            "Requirement already satisfied: cycler>=0.10 in /usr/local/lib/python3.7/dist-packages (from matplotlib->pygasflow) (0.11.0)\n",
            "Requirement already satisfied: python-dateutil>=2.1 in /usr/local/lib/python3.7/dist-packages (from matplotlib->pygasflow) (2.8.2)\n",
            "Requirement already satisfied: pyparsing!=2.0.4,!=2.1.2,!=2.1.6,>=2.0.1 in /usr/local/lib/python3.7/dist-packages (from matplotlib->pygasflow) (3.0.7)\n",
            "Requirement already satisfied: six>=1.5 in /usr/local/lib/python3.7/dist-packages (from python-dateutil>=2.1->matplotlib->pygasflow) (1.15.0)\n",
            "Installing collected packages: pygasflow\n",
            "Successfully installed pygasflow-1.0.6\n"
          ]
        }
      ],
      "source": [
        "# Note the ! before the command, which forces colab to run the code at the \n",
        "# command line rather than in python\n",
        "#\n",
        "# If you download to your personal computer, the installation command won't have\n",
        "# the ! and may vary depending on how you installed python\n",
        "#\n",
        "! pip install pygasflow"
      ]
    },
    {
      "cell_type": "code",
      "source": [
        "# Import the library\n",
        "import pygasflow"
      ],
      "metadata": {
        "id": "k-XxWtXMEWya"
      },
      "execution_count": 3,
      "outputs": []
    },
    {
      "cell_type": "markdown",
      "source": [
        "Define some variables as an example"
      ],
      "metadata": {
        "id": "u-v0dTcREoT1"
      }
    },
    {
      "cell_type": "code",
      "source": [
        "gamma = 1.4\n",
        "M1 = 0.1"
      ],
      "metadata": {
        "id": "UF-XXxwdEjUN"
      },
      "execution_count": 4,
      "outputs": []
    },
    {
      "cell_type": "markdown",
      "source": [
        "Find the required sonic reference conditions at state 1 and define a print function as shown in the pygasflow package documentation"
      ],
      "metadata": {
        "id": "vAkPGi8VEzeB"
      }
    },
    {
      "cell_type": "code",
      "source": [
        "def print_rayleigh(M, prs, drs, trs, tprs, ttrs, urs, eps):\n",
        "    print(\"M \\t\\t {}\".format(M))\n",
        "    print(\"P/P* \\t\\t {}\".format(prs))\n",
        "    print(\"rho/rho* \\t {}\".format(drs))\n",
        "    print(\"T/T* \\t\\t {}\".format(trs))\n",
        "    print(\"P0/P0* \\t\\t {}\".format(tprs))\n",
        "    print(\"T0/T0* \\t\\t {}\".format(ttrs))\n",
        "    print(\"U/U* \\t\\t {}\".format(urs))\n",
        "    print(\"(s*-s)/R \\t {}\".format(eps))\n",
        "    print()\n",
        "\n",
        "result = pygasflow.rayleigh_solver('m', M1, gamma=gamma)\n",
        "print_rayleigh(*result)"
      ],
      "metadata": {
        "colab": {
          "base_uri": "https://localhost:8080/"
        },
        "id": "0R_TvgFHEyMZ",
        "outputId": "fc0e9951-3fd2-429d-ee58-d4bf77a09639"
      },
      "execution_count": 15,
      "outputs": [
        {
          "output_type": "stream",
          "name": "stdout",
          "text": [
            "M \t\t 0.1\n",
            "P/P* \t\t 2.366863905325444\n",
            "rho/rho* \t 42.24999999999999\n",
            "T/T* \t\t 0.056020447463324116\n",
            "P0/P0* \t\t 1.2591455962360274\n",
            "T0/T0* \t\t 0.04677707363187564\n",
            "U/U* \t\t 0.02366863905325444\n",
            "(s*-s)/R \t 10.948700657848867\n",
            "\n"
          ]
        }
      ]
    },
    {
      "cell_type": "markdown",
      "source": [
        "Specifically, what we first needed was $\\frac{T_o}{T_o^*}$:"
      ],
      "metadata": {
        "id": "wnL9oE8cHOs1"
      }
    },
    {
      "cell_type": "code",
      "source": [
        "print(\"T0/T0* \\t\\t {}\".format(result[5]))"
      ],
      "metadata": {
        "colab": {
          "base_uri": "https://localhost:8080/"
        },
        "id": "VxLY-ssZHfn9",
        "outputId": "8e980305-d251-4338-8327-d682803d9109"
      },
      "execution_count": 12,
      "outputs": [
        {
          "output_type": "stream",
          "name": "stdout",
          "text": [
            "T0/T0* \t\t 0.04677707363187564\n"
          ]
        }
      ]
    },
    {
      "cell_type": "markdown",
      "source": [
        "This is the same value that we found from the table in the book: $\\frac{T_o}{T_o^*} = 0.04678$"
      ],
      "metadata": {
        "id": "RUdilQzfFx9X"
      }
    },
    {
      "cell_type": "markdown",
      "source": [
        "If we want to use values in further python calculations (not basically as a lookup table, as above), then returning the results as a python dictionary is probably a good idea:"
      ],
      "metadata": {
        "id": "jP_ViuLNIwXE"
      }
    },
    {
      "cell_type": "code",
      "source": [
        "result = pygasflow.rayleigh_solver('m', M1, gamma=gamma, to_dict=True)\n",
        "print(result['ttrs'])"
      ],
      "metadata": {
        "colab": {
          "base_uri": "https://localhost:8080/"
        },
        "id": "rqN0Tfx8JF4j",
        "outputId": "370eeaa1-500d-4c56-d775-b53396779635"
      },
      "execution_count": 18,
      "outputs": [
        {
          "output_type": "stream",
          "name": "stdout",
          "text": [
            "0.04677707363187564\n"
          ]
        }
      ]
    },
    {
      "cell_type": "markdown",
      "source": [
        "Now, we're primed to solve our example problem.\n",
        "\n",
        "Given out heat addition, we could find our difference in stagnation enthalpy.  Since we are also assuming that the gas is nonreacting and a calorically perfect gas (CPG), i.e., the specific heats are constant, the stagnation enthalpy equation may be written in terms of stagnation temperature.\n",
        "\n",
        "$\\frac{T_{o,e}}{T_{o,1}} = 1 + \\frac{q}{c_p T_{o,1}}$"
      ],
      "metadata": {
        "id": "B8Dq9XiiJh7R"
      }
    },
    {
      "cell_type": "code",
      "source": [
        "gamma = 1.4\n",
        "M1 = 0.1\n",
        "q = 2200.      # kJ/kg_{air flow}\n",
        "c_p = 1.005    # kJ/(kg*K)\n",
        "T_o1 = 300.    # K\n",
        "P_o1 = 300.    # kPa\n",
        "\n",
        "result = pygasflow.rayleigh_solver('m', M1, gamma=gamma, to_dict=True)\n",
        "\n",
        "# e/1\n",
        "ToRe1 = 1. + q/(c_p*T_o1)\n",
        "print(\"T_oe/To1 \\t {}\".format(ToRe1))\n",
        "# 1/star\n",
        "ToR1s = result['ttrs']\n",
        "print(\"T_o1/To* \\t {}\".format(ToR1s))\n",
        "\n",
        "# So to get e/star = (e/1)*(1/star)\n",
        "ToRes = ToRe1 * ToR1s\n",
        "print(\"T_oe/To* \\t {}\".format(ToRes))\n",
        "\n",
        "# Finally, use pygasflow to find the Mach number at the exit\n",
        "result2 = pygasflow.rayleigh_solver('total_temperature_sub', ToRes, gamma=gamma, to_dict=True)\n",
        "\n",
        "# Print the exit Mach number\n",
        "print(\"M_exit \\t\\t {}\".format(result2['m']))"
      ],
      "metadata": {
        "colab": {
          "base_uri": "https://localhost:8080/"
        },
        "id": "5Y4IJ1mXK88g",
        "outputId": "6fe8274f-552e-4248-e9dc-53b3781c6773"
      },
      "execution_count": 35,
      "outputs": [
        {
          "output_type": "stream",
          "name": "stdout",
          "text": [
            "T_oe/To1 \t 8.296849087893865\n",
            "T_o1/To* \t 0.04677707363187564\n",
            "T_oe/To* \t 0.38810232069697154\n",
            "M_exit \t\t 0.3223919681080784\n"
          ]
        }
      ]
    },
    {
      "cell_type": "markdown",
      "source": [
        "We find the same thing that we did in class:\n",
        "\n",
        "$M_\\mathrm{exit} = 0.322$"
      ],
      "metadata": {
        "id": "LJdXjtUbPWIq"
      }
    }
  ]
}