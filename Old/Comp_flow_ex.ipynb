{
  "nbformat": 4,
  "nbformat_minor": 0,
  "metadata": {
    "colab": {
      "name": "Comp_flow_ex.ipynb",
      "provenance": [],
      "authorship_tag": "ABX9TyOvov4Acf/bJFD72LdRZ4f6",
      "include_colab_link": true
    },
    "kernelspec": {
      "name": "python3",
      "display_name": "Python 3"
    },
    "language_info": {
      "name": "python"
    }
  },
  "cells": [
    {
      "cell_type": "markdown",
      "metadata": {
        "id": "view-in-github",
        "colab_type": "text"
      },
      "source": [
        "<a href=\"https://colab.research.google.com/github/JMQuinlan/Compressible/blob/main/Comp_flow_ex.ipynb\" target=\"_parent\"><img src=\"https://colab.research.google.com/assets/colab-badge.svg\" alt=\"Open In Colab\"/></a>"
      ]
    },
    {
      "cell_type": "code",
      "execution_count": 2,
      "metadata": {
        "colab": {
          "base_uri": "https://localhost:8080/"
        },
        "id": "KXzmFVVQQO1k",
        "outputId": "ad181ddd-8a85-4092-9f82-628141f2aa9c"
      },
      "outputs": [
        {
          "output_type": "stream",
          "name": "stdout",
          "text": [
            "Collecting compflow\n",
            "  Downloading compflow-0.3.0.tar.gz (14 kB)\n",
            "Requirement already satisfied: numpy in /usr/local/lib/python3.7/dist-packages (from compflow) (1.21.5)\n",
            "Requirement already satisfied: scipy in /usr/local/lib/python3.7/dist-packages (from compflow) (1.4.1)\n",
            "Building wheels for collected packages: compflow\n",
            "  Building wheel for compflow (setup.py) ... \u001b[?25l\u001b[?25hdone\n",
            "  Created wheel for compflow: filename=compflow-0.3.0-cp37-cp37m-linux_x86_64.whl size=213016 sha256=b6c64abc491a2c7e87608328639ab99c551e30d5edcf6bb30f11304063c5a695\n",
            "  Stored in directory: /root/.cache/pip/wheels/e7/6f/fb/1698065f2e8aa2262849f3af00bacdb5dc42f8e4d5cdd412c2\n",
            "Successfully built compflow\n",
            "Installing collected packages: compflow\n",
            "Successfully installed compflow-0.3.0\n"
          ]
        }
      ],
      "source": [
        "!python3 -m pip install compflow"
      ]
    },
    {
      "cell_type": "code",
      "source": [
        "import compflow\n",
        "\n",
        "ga = 1.4\n",
        "\n",
        "Po1 = compflow.Po_P_from_Ma(0.3, ga)\n",
        "print(Po1)\n",
        "M1 = compflow.Ma_from_mcpTo_APo(0.8, ga)\n",
        "print(M1)"
      ],
      "metadata": {
        "colab": {
          "base_uri": "https://localhost:8080/"
        },
        "id": "6jUFThW_QzRQ",
        "outputId": "9043dfe3-c053-4c55-a6c2-a945930cd339"
      },
      "execution_count": 3,
      "outputs": [
        {
          "output_type": "stream",
          "name": "stdout",
          "text": [
            "1.0644302861529382\n",
            "0.39659360325173604\n"
          ]
        }
      ]
    },
    {
      "cell_type": "code",
      "source": [
        "dir(compflow)"
      ],
      "metadata": {
        "colab": {
          "base_uri": "https://localhost:8080/"
        },
        "id": "EyFtJYDr3qzY",
        "outputId": "fa9b2584-b073-475a-85a1-68ee97e37180"
      },
      "execution_count": 4,
      "outputs": [
        {
          "output_type": "execute_result",
          "data": {
            "text/plain": [
              "['A_Acrit_from_Ma',\n",
              " 'Ma_from_A_Acrit',\n",
              " 'Ma_from_Mash',\n",
              " 'Ma_from_Po_P',\n",
              " 'Ma_from_Posh_Po',\n",
              " 'Ma_from_To_T',\n",
              " 'Ma_from_V_cpTo',\n",
              " 'Ma_from_mcpTo_AP',\n",
              " 'Ma_from_mcpTo_APo',\n",
              " 'Ma_from_rhoo_rho',\n",
              " 'Mash_from_Ma',\n",
              " 'Po_P_from_Ma',\n",
              " 'Posh_Po_from_Ma',\n",
              " 'To_T_from_Ma',\n",
              " 'V_cpTo_from_Ma',\n",
              " '__builtins__',\n",
              " '__cached__',\n",
              " '__doc__',\n",
              " '__file__',\n",
              " '__loader__',\n",
              " '__name__',\n",
              " '__package__',\n",
              " '__path__',\n",
              " '__spec__',\n",
              " 'cache',\n",
              " 'der_A_Acrit_from_Ma',\n",
              " 'der_Mash_from_Ma',\n",
              " 'der_Po_P_from_Ma',\n",
              " 'der_Posh_Po_from_Ma',\n",
              " 'der_To_T_from_Ma',\n",
              " 'der_V_cpTo_from_Ma',\n",
              " 'der_mcpTo_AP_from_Ma',\n",
              " 'der_mcpTo_APo_from_Ma',\n",
              " 'der_rhoo_rho_from_Ma',\n",
              " 'derivative_from_Ma',\n",
              " 'fort_der_from_Ma',\n",
              " 'fort_from_Ma',\n",
              " 'fort_to_Ma',\n",
              " 'fortran',\n",
              " 'from_Ma',\n",
              " 'generate_lookup',\n",
              " 'get_invalid',\n",
              " 'mcpTo_AP_from_Ma',\n",
              " 'mcpTo_APo_from_Ma',\n",
              " 'native',\n",
              " 'np',\n",
              " 'rhoo_rho_from_Ma',\n",
              " 'to_Ma']"
            ]
          },
          "metadata": {},
          "execution_count": 4
        }
      ]
    },
    {
      "cell_type": "code",
      "source": [
        "help(compflow.Posh_Po_from_Ma)\n"
      ],
      "metadata": {
        "colab": {
          "base_uri": "https://localhost:8080/"
        },
        "id": "5Xux4lGN4LRK",
        "outputId": "8479335d-1236-4f01-f92b-ea167e14f33a"
      },
      "execution_count": 5,
      "outputs": [
        {
          "output_type": "stream",
          "name": "stdout",
          "text": [
            "Help on function Posh_Po_from_Ma in module compflow.fortran:\n",
            "\n",
            "Posh_Po_from_Ma(Ma, ga)\n",
            "    Shock stagnation pressure ratio as function of Mach number.\n",
            "    \n",
            "    .. math::\n",
            "    \n",
            "        \\frac{p_{0\\mathrm{sh}}}{p_0}  = \\left(\n",
            "        \\frac{\\frac{\\gamma + 1}{2}\\Ma^2}{1 + \\frac{\\gamma - 1}{2} \\Ma^2}\n",
            "        \\right)^{\\tfrac{\\gamma}{\\gamma-1}}\n",
            "        \\left(\n",
            "        \\frac{2 \\gamma }{\\gamma + 1} \\Ma^2 - \\frac{\\gamma - 1}{\\gamma + 1}\n",
            "        \\right)^{\\tfrac{-1}{\\gamma -1}}\n",
            "    \n",
            "    Parameters\n",
            "    ----------\n",
            "    Ma : array\n",
            "        Mach number, :math:`\\Ma`.\n",
            "    ga : float\n",
            "        Ratio of specific heats, :math:`\\gamma`.\n",
            "    \n",
            "    Returns\n",
            "    -------\n",
            "    Posh_Po : array\n",
            "        Shock stagnation pressure ratio, :math:`p_{0\\mathrm{sh}}/p_0`.\n",
            "\n"
          ]
        }
      ]
    },
    {
      "cell_type": "markdown",
      "source": [
        "Let's use the code to do the lookups needed for the example problem in class.\n",
        "\n",
        "We had an entrance Mach number of 0.1 and the tank stagnation properties were $T_{o,1} = 300\\,$K and $P_{o,1} = 300\\,$kPa.\n",
        "\n",
        "First let's find $\\frac{T_o}{T_o^*}$:"
      ],
      "metadata": {
        "id": "4IqmWL3Q5h5F"
      }
    },
    {
      "cell_type": "code",
      "source": [
        ""
      ],
      "metadata": {
        "id": "Ar0N10Gd4f2I"
      },
      "execution_count": null,
      "outputs": []
    },
    {
      "cell_type": "markdown",
      "source": [
        "Which isn't in this code... let's try again..."
      ],
      "metadata": {
        "id": "IrTJOlaF5fMP"
      }
    },
    {
      "cell_type": "markdown",
      "source": [
        "Okay, the pressure ratio has been included.  Then we just need to use our CPG/isentropic relationships.\n",
        "\n",
        "Let's write it as a function:"
      ],
      "metadata": {
        "id": "Mi_4CtsF8WK8"
      }
    },
    {
      "cell_type": "code",
      "source": [
        "def To_Tostar_from_Po_Postar(Pratio,ga):\n",
        "  return (Pratio)**(ga/(ga-1.))"
      ],
      "metadata": {
        "id": "209SV09S8qQy"
      },
      "execution_count": 11,
      "outputs": []
    },
    {
      "cell_type": "code",
      "source": [
        "ga = 1.4\n",
        "compflow.Posh_Po_from_Ma(2,ga)\n",
        "# To_Tostar_from_Po_Postar(2,ga)\n"
      ],
      "metadata": {
        "colab": {
          "base_uri": "https://localhost:8080/"
        },
        "id": "5J9iZAqV9MZs",
        "outputId": "914cab24-4293-4655-afd7-59cf6ca9f38f"
      },
      "execution_count": 18,
      "outputs": [
        {
          "output_type": "execute_result",
          "data": {
            "text/plain": [
              "0.7208738614847454"
            ]
          },
          "metadata": {},
          "execution_count": 18
        }
      ]
    },
    {
      "cell_type": "markdown",
      "source": [
        "Nope, that was the post/pre shock stagnation pressure ratio."
      ],
      "metadata": {
        "id": "GatEf4JB-39S"
      }
    },
    {
      "cell_type": "code",
      "source": [
        "def To_Tostar_from_Ma(Ma,ga):\n",
        "  TM = compflow.To_T_from_Ma(Ma,ga)\n",
        "  Tstar = compflow.To_T_from_Ma(1,ga)\n",
        "  Tratio = TM/Tstar\n",
        "  return Tratio\n",
        "\n"
      ],
      "metadata": {
        "id": "DiwlPQXE_BRD"
      },
      "execution_count": 26,
      "outputs": []
    },
    {
      "cell_type": "code",
      "source": [
        "ga = 1.4\n",
        "Ma = 0.1\n",
        "print(To_Tostar_from_Ma(0.1,ga))\n",
        "print(compflow.To_T_from_Ma(Ma,ga))\n",
        "print(compflow.To_T_from_Ma(1,ga))\n"
      ],
      "metadata": {
        "colab": {
          "base_uri": "https://localhost:8080/"
        },
        "id": "gs0qluma_G56",
        "outputId": "5f885954-29bd-403d-dae9-5b8ac4f90d79"
      },
      "execution_count": 32,
      "outputs": [
        {
          "output_type": "stream",
          "name": "stdout",
          "text": [
            "0.8350000000000001\n",
            "1.002\n",
            "1.2\n"
          ]
        }
      ]
    },
    {
      "cell_type": "markdown",
      "source": [
        "That's not correct"
      ],
      "metadata": {
        "id": "dLKxToP_BVU4"
      }
    }
  ]
}
